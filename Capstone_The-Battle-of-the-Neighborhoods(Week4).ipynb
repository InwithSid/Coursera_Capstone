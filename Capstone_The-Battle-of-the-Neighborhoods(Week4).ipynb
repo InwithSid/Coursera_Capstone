{
    "cells": [
        {
            "cell_type": "markdown",
            "metadata": {
                "collapsed": true
            },
            "source": "<h2><b><font color=\"DodgerBlue\" >Applied Data Science Capstone Project</font></b></h2>\n<h1><font color=\"DodgerBlue\" > The Battle of the Neighborhoods </font></h1>\n<h3><font color=\"MediumSeaGreen\">**by Sid with IBM/Coursera**</font></h3><a id=\"home\"></a>\n<p style=\"text-align: right\"><font color=\"DodgerBlue\"><b>LinkedIn  </b></font><a href=\"https://www.linkedin.com/in/sidhartha-mitra-91b3253\">: Direct Link</a></p>\n<p style=\"text-align: right\"><font color=\"DodgerBlue\"><b>GitHub  </b></font><a href=\"https://github.com/InwithSid/Coursera_Capstone\">: Direct Link</a></p>"
        },
        {
            "cell_type": "markdown",
            "metadata": {},
            "source": "<h2 style=\"text-align:center\" >Table of contents</h2>\n <table style=\"width:50%\" align=\"center\">\n  <tr>\n    <th style=\"text-align:center\">S.No.</th>\n    <th style=\"text-align:center\">Chapter</th>\n    <th style=\"text-align:center\">Topic</th>\n    </tr>\n  <tr>\n    <td style=\"text-align:center\">1.</td>\n    <td style=\"text-align:center\"><b>The Problem</b></td>\n    <td style=\"text-align:center\"><a href=\"#introduction\">Introduction and Problem statement</a></td>\n  </tr>\n  <tr>\n    <td style=\"text-align:center\">2.</td>\n    <td style=\"text-align:center\"><b>Data</b></td>\n    <td style=\"text-align:center\"><a href=\"#data\">Data Sources and Setup</a></td>\n  </tr>\n    <tr>\n    <td style=\"text-align:center\">3.</td>\n    <td style=\"text-align:center\"><b>Analysis</b></td>\n    <td style=\"text-align:center\"><a href=\"#analysis\">Computation of best neighborhood</a></td>\n  </tr>\n    <tr>\n    <td style=\"text-align:center\">4.</td>\n    <td style=\"text-align:center\"><b>Result and Discussion</b></td>\n    <td style=\"text-align:center\"><a href=\"#results\">Findings and the model</a></td>\n  </tr>\n    <tr>\n    <td style=\"text-align:center\">5.</td>\n    <td style=\"text-align:center\"><b>Conclusion</b></td>\n    <td style=\"text-align:center\"><a href=\"#conclusion\">Sharing the outcomes and feed-forward</a></td>\n  </tr>\n</table>"
        },
        {
            "cell_type": "markdown",
            "metadata": {},
            "source": "\n\n## The Problem Statement <a id=\"introduction\"></a>\n<p align=\"right\"><a href=\"#home\">Home</a></p>\n"
        },
        {
            "cell_type": "markdown",
            "metadata": {},
            "source": "<p>In this project we are going to try to action and achieve the following outcomes,<br>1. Choose (<b>based on their crime%</b>) one city out of the two cities(New York or Toronto) which should get a <b>'Mental-Health Welness Care Unit'</b> <br>2. Based on the choice of city finding out the best location to set up a 'Mental-Health Welness Care Unit' <b>depending upon the crime rate in the neighborhoods</b>.\n<br>For this project it is important that a <b>location</b> is selected that is located at the centroid of the the neighborhoods that are higher in their average <b> crime rate </b>, when compared with the other neighborhoods.\n<b>Data Science methodologies</b> will be used <b>to generate a few most promising neighborhoods</b> based on the above mentioned criteria, and <b>estimate the best possible location to set up a 'Mental-Health Welness Care Unit'</b>\nTop 3 locations will then be clearly expressed so that best possible final location can be chosen by stakeholders."
        },
        {
            "cell_type": "markdown",
            "metadata": {},
            "source": "## Data <a name=\"data\"></a>\n<p><a href=\"#home\">Home</a></p>"
        },
        {
            "cell_type": "markdown",
            "metadata": {},
            "source": "Based on the problem statement, factors that will influence our decission are:\n* Selection of the cities (between |New York||Toronto|)based on the crieteria of higher annual crime rate in these cities,\n    * Source of crime comparison data between Toronto and New York : https://www.numbeo.com/crime/\n* After city selection, we need to find out the best location i.e. at the center of the neighborhoods of the selected city for analysis\n    * coordinate of the 'selected city' will be obtained using **Google Maps API geocoding**\n* Finally identifying three localities to be proposed to the stakeholders to choose one\n    * The latitude and longitude data for the three locations will be obtained from :  \n\nWe decided to use regularly spaced grid of locations, centered around city center, to define our neighborhoods.\n\nFollowing data analysis and representation tasks are to be accomplished during this phase:\n* D1.0 - Importing and parsing crimes data from numbeo to represent the comparision \n* D1.1 - Visualizing and storing the comparison data\n* D2.0 - Downloading, cleaning and exploring the dataset for neighborhoods of our selected city\n### D1.0\n#### Importing and parsing 'Crimes Data' from the numbeo website & parsing it into a representation."
        },
        {
            "cell_type": "markdown",
            "metadata": {},
            "source": "<p>The <b>numbeo</b> website has been around since 2010 and it's been a source to many international\nnewspapers and magazines for unbaised data sets of various gerenes.\nWe are currently focused on retrieving<br>the crimes data for two cities, Toronto and New York.\n\n<p> 1.0.1 We'll be using the beautiful soup package to first pharse the webpage for our data</p>"
        },
        {
            "cell_type": "code",
            "execution_count": 3,
            "metadata": {},
            "outputs": [],
            "source": "# The code was removed by Watson Studio for sharing."
        },
        {
            "cell_type": "markdown",
            "metadata": {},
            "source": "<p> 1.0.2 Testing the raw fetched data from the source </p>"
        },
        {
            "cell_type": "code",
            "execution_count": 4,
            "metadata": {},
            "outputs": [
                {
                    "data": {
                        "text/plain": "[<table class=\"table_indices\">\n <tr><th>Index\u00a0\u00a0\u00a0<a href=\"https://www.numbeo.com/crime/indices_explained.jsp\" title=\"About these indices\"><img alt=\"Info\" class=\"image_help\" src=\"https://www.numbeo.com/images/information.png\"/></a></th><th>Toronto</th><th>New York, NY</th></tr>\n <tr><td>Crime Index: </td>\n <td style=\"text-align: right\">\n \u00a0\u00a0\u00a038.42</td>\n <td style=\"text-align: right\">\n \u00a0\u00a0\u00a044.50</td>\n </tr>\n <tr><td>Safety Scale: </td>\n <td style=\"text-align: right\">\n \u00a0\u00a0\u00a061.58</td>\n <td style=\"text-align: right\">\n \u00a0\u00a0\u00a055.50</td>\n </tr>\n </table>]"
                    },
                    "execution_count": 4,
                    "metadata": {},
                    "output_type": "execute_result"
                }
            ],
            "source": "# The code was removed by Watson Studio for sharing."
        },
        {
            "cell_type": "markdown",
            "metadata": {},
            "source": "<p> 1.0.3 Exporting this data to pandas </p>"
        },
        {
            "cell_type": "code",
            "execution_count": 5,
            "metadata": {},
            "outputs": [],
            "source": "# The code was removed by Watson Studio for sharing."
        },
        {
            "cell_type": "markdown",
            "metadata": {},
            "source": "### D1.1\n#### Visualizing and storing the comparison data for the two cities based on their crime index and safety scale."
        },
        {
            "cell_type": "code",
            "execution_count": 7,
            "metadata": {},
            "outputs": [
                {
                    "name": "stdout",
                    "output_type": "stream",
                    "text": "+----+---------------+-----------+----------------+\n|    | Index         |   Toronto |   New York, NY |\n|----+---------------+-----------+----------------|\n|  0 | Crime Index:  |     38.42 |           44.5 |\n|  1 | Safety Scale: |     61.58 |           55.5 |\n+----+---------------+-----------+----------------+\n"
                }
            ],
            "source": "# The code was removed by Watson Studio for sharing."
        },
        {
            "cell_type": "markdown",
            "metadata": {},
            "source": "## Methodology <a name=\"methodology\"></a>"
        },
        {
            "cell_type": "markdown",
            "metadata": {},
            "source": ""
        },
        {
            "cell_type": "markdown",
            "metadata": {},
            "source": "## Analysis <a name=\"analysis\"></a>\n<p><a href=\"#home\">Home</a></p>"
        },
        {
            "cell_type": "markdown",
            "metadata": {},
            "source": ""
        },
        {
            "cell_type": "markdown",
            "metadata": {},
            "source": "## Results and Discussion <a name=\"results\"></a>\n<p><a href=\"#home\">Home</a></p>"
        },
        {
            "cell_type": "markdown",
            "metadata": {},
            "source": ""
        },
        {
            "cell_type": "markdown",
            "metadata": {},
            "source": "## Conclusion <a name=\"conclusion\"></a>\n<p><a href=\"#home\">Home</a></p>"
        },
        {
            "cell_type": "markdown",
            "metadata": {},
            "source": ""
        }
    ],
    "metadata": {
        "kernelspec": {
            "display_name": "Python 3.6",
            "language": "python",
            "name": "python3"
        },
        "language_info": {
            "codemirror_mode": {
                "name": "ipython",
                "version": 3
            },
            "file_extension": ".py",
            "mimetype": "text/x-python",
            "name": "python",
            "nbconvert_exporter": "python",
            "pygments_lexer": "ipython3",
            "version": "3.6.8"
        }
    },
    "nbformat": 4,
    "nbformat_minor": 1
}